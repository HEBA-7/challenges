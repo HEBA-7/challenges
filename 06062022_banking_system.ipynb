{
 "cells": [
  {
   "cell_type": "code",
   "execution_count": 16,
   "id": "7b28131c",
   "metadata": {},
   "outputs": [],
   "source": [
    "class User(object):\n",
    "    def __init__(self, name, balance, checking_account):\n",
    "        self.name = name\n",
    "        self.balance = balance\n",
    "        self.checking_account = checking_account\n",
    "        \n",
    "    def withdraw(self, amount):\n",
    "        if self.balance <= amount:\n",
    "            raise ValueError(\"not enough money\")\n",
    "        else:\n",
    "            self.balance -= amount\n",
    "            return(f'{self.name} has {self.balance}.')\n",
    "    def check(self, another_user, amount):\n",
    "        if another_user.checking_account == False:\n",
    "            print(another_user.checking_acount)\n",
    "            raise ValueError(\"user not active\")\n",
    "        else:\n",
    "            if another_user.balance <= amount:\n",
    "                raise ValueError(\"not enough money\")\n",
    "            else:\n",
    "                self.balance += amount\n",
    "                another_user.balance -= amount\n",
    "                return(f'{self.name} has {self.balance} and {another_user.name} has {another_user.balance}.')  \n",
    "    def add_cash(self, amount):\n",
    "        self.balance += amount\n",
    "        return(f'{self.name} has {self.balance}.')"
   ]
  },
  {
   "cell_type": "code",
   "execution_count": 14,
   "id": "8c72cca7",
   "metadata": {},
   "outputs": [],
   "source": [
    "Jeff = User(name = \"Jeff\",\n",
    "            balance = 100,\n",
    "            checking_account = True)                        \n",
    "            "
   ]
  },
  {
   "cell_type": "code",
   "execution_count": 15,
   "id": "037a44a7",
   "metadata": {},
   "outputs": [
    {
     "data": {
      "text/plain": [
       "100"
      ]
     },
     "execution_count": 15,
     "metadata": {},
     "output_type": "execute_result"
    }
   ],
   "source": [
    "Jeff.balance"
   ]
  },
  {
   "cell_type": "code",
   "execution_count": null,
   "id": "0cb06039",
   "metadata": {},
   "outputs": [],
   "source": []
  }
 ],
 "metadata": {
  "kernelspec": {
   "display_name": "Python [conda env:jp_env] *",
   "language": "python",
   "name": "conda-env-jp_env-py"
  },
  "language_info": {
   "codemirror_mode": {
    "name": "ipython",
    "version": 3
   },
   "file_extension": ".py",
   "mimetype": "text/x-python",
   "name": "python",
   "nbconvert_exporter": "python",
   "pygments_lexer": "ipython3",
   "version": "3.9.12"
  }
 },
 "nbformat": 4,
 "nbformat_minor": 5
}
