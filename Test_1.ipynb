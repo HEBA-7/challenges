{
 "cells": [
  {
   "cell_type": "code",
   "execution_count": 1,
   "id": "b1baaa64",
   "metadata": {},
   "outputs": [],
   "source": []
  },
  {
   "cell_type": "code",
   "execution_count": 2,
   "id": "3fa17272",
   "metadata": {},
   "outputs": [],
   "source": [
    "def get_count(sentence):\n",
    "    count = 0\n",
    "    for i in range(len(sentence)):\n",
    "        if sentence[i] == \"a\" or sentence[i] == \"e\" or sentence[i] == \"i\" or sentence[i] == \"o\" or sentence[i] == \"u\":\n",
    "            count = count + 1\n",
    "    return count"
   ]
  },
  {
   "cell_type": "code",
   "execution_count": null,
   "id": "ce7d7ef7",
   "metadata": {},
   "outputs": [],
   "source": []
  }
 ],
 "metadata": {
  "kernelspec": {
   "display_name": "Python 3 (ipykernel)",
   "language": "python",
   "name": "python3"
  },
  "language_info": {
   "codemirror_mode": {
    "name": "ipython",
    "version": 3
   },
   "file_extension": ".py",
   "mimetype": "text/x-python",
   "name": "python",
   "nbconvert_exporter": "python",
   "pygments_lexer": "ipython3",
   "version": "3.9.7"
  }
 },
 "nbformat": 4,
 "nbformat_minor": 5
}
