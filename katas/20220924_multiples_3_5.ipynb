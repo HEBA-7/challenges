{
 "cells": [
  {
   "cell_type": "code",
   "execution_count": null,
   "id": "de5c3e7b",
   "metadata": {},
   "outputs": [],
   "source": [
    "def solution(number):\n",
    "    sum = 0\n",
    "    if number < 0:\n",
    "        return 0\n",
    "    for i in range(number):\n",
    "        if (i % 3 ==0) or (i % 5 == 0):\n",
    "            sum += i\n",
    "    return sum"
   ]
  }
 ],
 "metadata": {
  "kernelspec": {
   "display_name": "Python [conda env:m1_ih]",
   "language": "python",
   "name": "conda-env-m1_ih-py"
  },
  "language_info": {
   "codemirror_mode": {
    "name": "ipython",
    "version": 3
   },
   "file_extension": ".py",
   "mimetype": "text/x-python",
   "name": "python",
   "nbconvert_exporter": "python",
   "pygments_lexer": "ipython3",
   "version": "3.9.12"
  }
 },
 "nbformat": 4,
 "nbformat_minor": 5
}
