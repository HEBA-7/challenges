{
 "cells": [
  {
   "cell_type": "code",
   "execution_count": null,
   "id": "75419773",
   "metadata": {},
   "outputs": [],
   "source": [
    "def get_count(sentence):\n",
    "    count = 0\n",
    "    for i in range(len(sentence)):\n",
    "        if sentence[i] == \"a\" or sentence[i] == \"e\" or sentence[i] == \"i\" or sentence[i] == \"o\" or sentence[i] == \"u\":\n",
    "            count = count + 1\n",
    "    return count"
   ]
  }
 ],
 "metadata": {
  "kernelspec": {
   "display_name": "Python [conda env:jp_env] *",
   "language": "python",
   "name": "conda-env-jp_env-py"
  },
  "language_info": {
   "codemirror_mode": {
    "name": "ipython",
    "version": 3
   },
   "file_extension": ".py",
   "mimetype": "text/x-python",
   "name": "python",
   "nbconvert_exporter": "python",
   "pygments_lexer": "ipython3",
   "version": "3.9.12"
  }
 },
 "nbformat": 4,
 "nbformat_minor": 5
}
