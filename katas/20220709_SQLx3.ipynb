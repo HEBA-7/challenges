{
 "cells": [
  {
   "cell_type": "markdown",
   "id": "567d38ae",
   "metadata": {},
   "source": [
    "## 1. Group By Day"
   ]
  },
  {
   "cell_type": "code",
   "execution_count": null,
   "id": "598316ce",
   "metadata": {},
   "outputs": [],
   "source": [
    "SELECT\n",
    "DATE(created_at) as \"day\", description as \"description\", count(*) as \"count\"\n",
    "FROM events\n",
    "WHERE name = 'trained'\n",
    "GROUP BY \"day\", \"description\"\n",
    "ORDER BY \"day\""
   ]
  },
  {
   "cell_type": "markdown",
   "id": "703f1673",
   "metadata": {},
   "source": [
    "## 2. Countries Capitals for Trivia Night\n"
   ]
  },
  {
   "cell_type": "code",
   "execution_count": null,
   "id": "975954ae",
   "metadata": {},
   "outputs": [],
   "source": [
    "SELECT capital\n",
    "FROM countries\n",
    "WHERE (continent LIKE 'Af%') and (country LIKE 'E%')\n",
    "ORDER BY capital\n",
    "LIMIT 3 "
   ]
  },
  {
   "cell_type": "markdown",
   "id": "11e07dfd",
   "metadata": {},
   "source": [
    "## 3. Transactions"
   ]
  },
  {
   "cell_type": "code",
   "execution_count": null,
   "id": "d2364c3d",
   "metadata": {},
   "outputs": [],
   "source": [
    "SELECT \n",
    "  DATE(s.transaction_date) as \"day\",\n",
    "  d.name as department,\n",
    "  COUNT(s.id) as sale_count\n",
    "  FROM department d\n",
    "  INNER JOIN sale s on d.id = s.department_id\n",
    "  group by \"day\", department\n",
    "  order by \"day\"\"\""
   ]
  }
 ],
 "metadata": {
  "kernelspec": {
   "display_name": "Python [conda env:m1_ih]",
   "language": "python",
   "name": "conda-env-m1_ih-py"
  },
  "language_info": {
   "codemirror_mode": {
    "name": "ipython",
    "version": 3
   },
   "file_extension": ".py",
   "mimetype": "text/x-python",
   "name": "python",
   "nbconvert_exporter": "python",
   "pygments_lexer": "ipython3",
   "version": "3.9.12"
  }
 },
 "nbformat": 4,
 "nbformat_minor": 5
}
