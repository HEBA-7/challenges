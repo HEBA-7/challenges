{
 "cells": [
  {
   "cell_type": "code",
   "execution_count": 148,
   "id": "e12b9a6f",
   "metadata": {},
   "outputs": [],
   "source": [
    "import urllib.request\n",
    "import requests\n",
    "import bs4"
   ]
  },
  {
   "cell_type": "code",
   "execution_count": 149,
   "id": "4e9cbc78",
   "metadata": {},
   "outputs": [],
   "source": [
    "def get_member_since(username):\n",
    "    url = \"https://www.codewars.com/users/\"\n",
    "    username = \"Halima777\"\n",
    "    url_pattern = url + username\n",
    "    r = requests.get(url_pattern)\n",
    "    r = r.content\n",
    "    parsed_r = bs4.BeautifulSoup(r, \"html.parser\") \n",
    "    users = parsed_r.find_all(\"div\", class_=\"stat\")\n",
    "    for i in users:\n",
    "        if 'Member Since' in i.text:\n",
    "            year = i.text.split(':')[1]\n",
    "            return (print(year))"
   ]
  },
  {
   "cell_type": "code",
   "execution_count": 150,
   "id": "32f2380d",
   "metadata": {},
   "outputs": [
    {
     "name": "stdout",
     "output_type": "stream",
     "text": [
      "May 2022\n",
      "None\n"
     ]
    }
   ],
   "source": [
    "print(get_member_since(\"Halima777\"))"
   ]
  },
  {
   "cell_type": "code",
   "execution_count": 151,
   "id": "9169cc2f",
   "metadata": {},
   "outputs": [],
   "source": [
    "import bs4\n",
    "import requests\n",
    "import re"
   ]
  },
  {
   "cell_type": "code",
   "execution_count": 152,
   "id": "e006efa2",
   "metadata": {},
   "outputs": [
    {
     "data": {
      "text/plain": [
       "'https://www.codewars.com/users/Halima777'"
      ]
     },
     "execution_count": 152,
     "metadata": {},
     "output_type": "execute_result"
    }
   ],
   "source": [
    "username = 'Halima777'\n",
    "url_pattern = 'https://www.codewars.com/users/' + username\n",
    "url_pattern"
   ]
  },
  {
   "cell_type": "code",
   "execution_count": 153,
   "id": "cfc55cae",
   "metadata": {},
   "outputs": [
    {
     "data": {
      "text/plain": [
       "requests.models.Response"
      ]
     },
     "execution_count": 153,
     "metadata": {},
     "output_type": "execute_result"
    }
   ],
   "source": [
    "user = requests.get(url_pattern)\n",
    "type(user)"
   ]
  },
  {
   "cell_type": "code",
   "execution_count": 154,
   "id": "be2daf18",
   "metadata": {},
   "outputs": [
    {
     "data": {
      "text/plain": [
       "bs4.BeautifulSoup"
      ]
     },
     "execution_count": 154,
     "metadata": {},
     "output_type": "execute_result"
    }
   ],
   "source": [
    "html = user.content\n",
    "soup = bs4.BeautifulSoup(html, 'html.parser')\n",
    "type(soup)"
   ]
  },
  {
   "cell_type": "code",
   "execution_count": 155,
   "id": "0cdc1b27",
   "metadata": {},
   "outputs": [
    {
     "name": "stdout",
     "output_type": "stream",
     "text": [
      "May 2022\n"
     ]
    }
   ],
   "source": [
    "stat = soup.find_all('div', class_=\"stat\")\n",
    "#print(stat[0].text)\n",
    "for i in stat:\n",
    "    if 'Member Since' in i.text:\n",
    "        year = i.text.split(':')[1]\n",
    "        print(year)"
   ]
  },
  {
   "cell_type": "code",
   "execution_count": 156,
   "id": "d39a37eb",
   "metadata": {},
   "outputs": [
    {
     "data": {
      "text/plain": [
       "'May 2022'"
      ]
     },
     "execution_count": 156,
     "metadata": {},
     "output_type": "execute_result"
    }
   ],
   "source": [
    "data = [stat[e].text.split(':')[1] for e in range(len(stat)) if stat[e].text.split(':')[0] == 'Member Since'][0]\n",
    "data"
   ]
  },
  {
   "cell_type": "code",
   "execution_count": null,
   "id": "b62ce6d6",
   "metadata": {},
   "outputs": [],
   "source": []
  }
 ],
 "metadata": {
  "kernelspec": {
   "display_name": "Python [conda env:m1_ih]",
   "language": "python",
   "name": "conda-env-m1_ih-py"
  },
  "language_info": {
   "codemirror_mode": {
    "name": "ipython",
    "version": 3
   },
   "file_extension": ".py",
   "mimetype": "text/x-python",
   "name": "python",
   "nbconvert_exporter": "python",
   "pygments_lexer": "ipython3",
   "version": "3.9.12"
  }
 },
 "nbformat": 4,
 "nbformat_minor": 5
}
