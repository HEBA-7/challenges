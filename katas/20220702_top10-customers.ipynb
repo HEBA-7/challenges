{
 "cells": [
  {
   "cell_type": "code",
   "execution_count": null,
   "id": "c49b9819",
   "metadata": {},
   "outputs": [],
   "source": [
    "kata query = \"\"\"\n",
    "SELECT cu.customer_id, cu.email, COUNT(p.payment_id) AS payments_count, CAST(SUM(p.amount) AS float) total_amount \n",
    "FROM customer cu\n",
    "INNER JOIN payment p ON p.customer_id = cu.customer_id\n",
    "GROUP BY cu.customer_id, cu.email\n",
    "ORDER BY total_amount DESC\n",
    "LIMIT 10\n",
    "\"\"\""
   ]
  }
 ],
 "metadata": {
  "kernelspec": {
   "display_name": "Python [conda env:m1_ih]",
   "language": "python",
   "name": "conda-env-m1_ih-py"
  },
  "language_info": {
   "codemirror_mode": {
    "name": "ipython",
    "version": 3
   },
   "file_extension": ".py",
   "mimetype": "text/x-python",
   "name": "python",
   "nbconvert_exporter": "python",
   "pygments_lexer": "ipython3",
   "version": "3.9.12"
  }
 },
 "nbformat": 4,
 "nbformat_minor": 5
}
