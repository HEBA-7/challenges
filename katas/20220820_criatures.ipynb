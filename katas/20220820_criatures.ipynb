{
 "cells": [
  {
   "cell_type": "code",
   "execution_count": 18,
   "id": "bc07d889",
   "metadata": {},
   "outputs": [],
   "source": [
    "import numpy as np"
   ]
  },
  {
   "cell_type": "code",
   "execution_count": 86,
   "id": "96223dc1",
   "metadata": {},
   "outputs": [],
   "source": [
    "def criat(p1, p2):\n",
    "    if p1[0]>=p2[1] and p2[1]>p1[0]:\n",
    "        return p1, None\n",
    "    elif p1[0]>=p2[1] and p2[1]>p1[0]:\n",
    "        return None, p2\n",
    "    elif p1[0]<p2[1] and p1[1]<p2[0]:\n",
    "        return p1, p2\n",
    "    else:\n",
    "        return None, None"
   ]
  },
  {
   "cell_type": "code",
   "execution_count": 72,
   "id": "ea9b1a88",
   "metadata": {},
   "outputs": [
    {
     "data": {
      "text/plain": [
       "(None, None)"
      ]
     },
     "execution_count": 72,
     "metadata": {},
     "output_type": "execute_result"
    }
   ],
   "source": [
    "p1, p2= criat([5,3], [5,3])\n",
    "p1, p2"
   ]
  },
  {
   "cell_type": "code",
   "execution_count": 1,
   "id": "96da337c",
   "metadata": {},
   "outputs": [],
   "source": [
    "def battle(player1, player2):\n",
    "    matches = min(len(player1), len(player2))\n",
    "    for match in range(matches):\n",
    "        player1[match], player2[match] = competition(player1[match], player2[match])\n",
    "        print(player1, f'Loop number {match}')\n",
    "        print(player2, f'Loop number {match}')\n",
    "    player1 = list(filter(lambda x: x is not None, player1))\n",
    "    player2 = list(filter(lambda x: x is not None, player2))\n",
    "    print(player1)\n",
    "    print(player2)\n",
    "    final_dict = {\"player1\": player1, \"player2\": player2}\n",
    "    return final_dict\n",
    "\n"
   ]
  },
  {
   "cell_type": "code",
   "execution_count": null,
   "id": "299e4043",
   "metadata": {},
   "outputs": [],
   "source": []
  },
  {
   "cell_type": "code",
   "execution_count": null,
   "id": "e047c6d1",
   "metadata": {},
   "outputs": [],
   "source": []
  },
  {
   "cell_type": "code",
   "execution_count": null,
   "id": "bf9ad88f",
   "metadata": {},
   "outputs": [],
   "source": []
  }
 ],
 "metadata": {
  "kernelspec": {
   "display_name": "Python [conda env:m1_ih]",
   "language": "python",
   "name": "conda-env-m1_ih-py"
  },
  "language_info": {
   "codemirror_mode": {
    "name": "ipython",
    "version": 3
   },
   "file_extension": ".py",
   "mimetype": "text/x-python",
   "name": "python",
   "nbconvert_exporter": "python",
   "pygments_lexer": "ipython3",
   "version": "3.9.12"
  }
 },
 "nbformat": 4,
 "nbformat_minor": 5
}
