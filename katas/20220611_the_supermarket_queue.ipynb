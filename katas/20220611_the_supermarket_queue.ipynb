{
 "cells": [
  {
   "cell_type": "code",
   "execution_count": 20,
   "id": "62387f0b",
   "metadata": {},
   "outputs": [],
   "source": [
    "from collections import deque\n",
    "\n",
    "def queue_time(customers, n):\n",
    "    total_time = 0\n",
    "    queue = deque(customers)\n",
    "    tills = [0 for _ in range(n)]\n",
    "    while True:\n",
    "        for i in range(n):\n",
    "            if tills[i] == 0:\n",
    "                if queue:\n",
    "                    tills[i] = queue.popleft()\n",
    "            if tills[i] > 0:\n",
    "                tills[i] -= 1\n",
    "            print(f\"t: {total_time}, checkouts: {tills}\")\n",
    "        if queue or any([t > 0 for t in tills]):\n",
    "            total_time += 1\n",
    "        else:\n",
    "            break\n",
    "    return total_time"
   ]
  },
  {
   "cell_type": "code",
   "execution_count": 21,
   "id": "cb3eea2e",
   "metadata": {},
   "outputs": [
    {
     "name": "stdout",
     "output_type": "stream",
     "text": [
      "t: 0, checkouts: [2, 0, 0]\n",
      "t: 0, checkouts: [2, 5, 0]\n",
      "t: 0, checkouts: [2, 5, 6]\n",
      "t: 1, checkouts: [1, 5, 6]\n",
      "t: 1, checkouts: [1, 4, 6]\n",
      "t: 1, checkouts: [1, 4, 5]\n",
      "t: 2, checkouts: [0, 4, 5]\n",
      "t: 2, checkouts: [0, 3, 5]\n",
      "t: 2, checkouts: [0, 3, 4]\n",
      "t: 3, checkouts: [7, 3, 4]\n",
      "t: 3, checkouts: [7, 2, 4]\n",
      "t: 3, checkouts: [7, 2, 3]\n",
      "t: 4, checkouts: [6, 2, 3]\n",
      "t: 4, checkouts: [6, 1, 3]\n",
      "t: 4, checkouts: [6, 1, 2]\n",
      "t: 5, checkouts: [5, 1, 2]\n",
      "t: 5, checkouts: [5, 0, 2]\n",
      "t: 5, checkouts: [5, 0, 1]\n",
      "t: 6, checkouts: [4, 0, 1]\n",
      "t: 6, checkouts: [4, 0, 1]\n",
      "t: 6, checkouts: [4, 0, 0]\n",
      "t: 7, checkouts: [3, 0, 0]\n",
      "t: 7, checkouts: [3, 0, 0]\n",
      "t: 7, checkouts: [3, 0, 0]\n",
      "t: 8, checkouts: [2, 0, 0]\n",
      "t: 8, checkouts: [2, 0, 0]\n",
      "t: 8, checkouts: [2, 0, 0]\n",
      "t: 9, checkouts: [1, 0, 0]\n",
      "t: 9, checkouts: [1, 0, 0]\n",
      "t: 9, checkouts: [1, 0, 0]\n",
      "t: 10, checkouts: [0, 0, 0]\n",
      "t: 10, checkouts: [0, 0, 0]\n",
      "t: 10, checkouts: [0, 0, 0]\n"
     ]
    },
    {
     "data": {
      "text/plain": [
       "10"
      ]
     },
     "execution_count": 21,
     "metadata": {},
     "output_type": "execute_result"
    }
   ],
   "source": [
    "queue_time([3, 6, 7, 8], 3)"
   ]
  },
  {
   "cell_type": "code",
   "execution_count": 15,
   "id": "4db89079",
   "metadata": {},
   "outputs": [],
   "source": [
    "def queue_time(customers, n):\n",
    "    #print(customers, n)\n",
    "    tills = [0]*n\n",
    "    for i in customers:\n",
    "        tills[0] += i\n",
    "        tills = sorted(tills)\n",
    "        #print(tills)\n",
    "    return tills[-1]"
   ]
  },
  {
   "cell_type": "code",
   "execution_count": 18,
   "id": "796f995b",
   "metadata": {},
   "outputs": [
    {
     "data": {
      "text/plain": [
       "11"
      ]
     },
     "execution_count": 18,
     "metadata": {},
     "output_type": "execute_result"
    }
   ],
   "source": [
    "queue_time([3, 6, 7, 8], 3)"
   ]
  },
  {
   "cell_type": "code",
   "execution_count": null,
   "id": "35208b6d",
   "metadata": {},
   "outputs": [],
   "source": [
    "def queue_time(customers, n):\n",
    "    #print(customers, n)\n",
    "    tills = [0]*n\n",
    "    for i in customers:\n",
    "        tills[0] += i\n",
    "        tills = sorted(tills)\n",
    "        #print(tills)\n",
    "    return tills[-1]"
   ]
  }
 ],
 "metadata": {
  "kernelspec": {
   "display_name": "Python [conda env:jp_env] *",
   "language": "python",
   "name": "conda-env-jp_env-py"
  },
  "language_info": {
   "codemirror_mode": {
    "name": "ipython",
    "version": 3
   },
   "file_extension": ".py",
   "mimetype": "text/x-python",
   "name": "python",
   "nbconvert_exporter": "python",
   "pygments_lexer": "ipython3",
   "version": "3.9.12"
  }
 },
 "nbformat": 4,
 "nbformat_minor": 5
}
