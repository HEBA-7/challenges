{
 "cells": [
  {
   "cell_type": "code",
   "execution_count": 196,
   "id": "282c9c56",
   "metadata": {},
   "outputs": [],
   "source": [
    "def domain_name(url):\n",
    "    domain = url.split(\"//\")[-1].split(\"www.\")[-1].split(\".\")[0]\n",
    "    return(domain)"
   ]
  },
  {
   "cell_type": "code",
   "execution_count": 197,
   "id": "381b42ff",
   "metadata": {},
   "outputs": [
    {
     "data": {
      "text/plain": [
       "'google'"
      ]
     },
     "execution_count": 197,
     "metadata": {},
     "output_type": "execute_result"
    }
   ],
   "source": [
    "domain_name(\"http://google.com\")"
   ]
  }
 ],
 "metadata": {
  "kernelspec": {
   "display_name": "Python [conda env:jp_env] *",
   "language": "python",
   "name": "conda-env-jp_env-py"
  },
  "language_info": {
   "codemirror_mode": {
    "name": "ipython",
    "version": 3
   },
   "file_extension": ".py",
   "mimetype": "text/x-python",
   "name": "python",
   "nbconvert_exporter": "python",
   "pygments_lexer": "ipython3",
   "version": "3.9.12"
  }
 },
 "nbformat": 4,
 "nbformat_minor": 5
}
