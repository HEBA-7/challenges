{
 "cells": [
  {
   "cell_type": "code",
   "execution_count": null,
   "id": "8cc6b3eb",
   "metadata": {},
   "outputs": [],
   "source": [
    "def balanced_num(number):\n",
    "    #defino mis variables\n",
    "    str_number = str(number) #convierto primero el número que quiero que me ejecute el código en string\n",
    "    l_str_number = len(str_number) #una vez convertido en string, le pido con len para que me despliegue los dígitos de mi número\n",
    "    sum_der = 0 #defino que la suma de la parte derecha del number sea igual a 0\n",
    "    sum_izq = 0 #defino que la suma de la parte izquierda del number sea igual a 0 \n",
    "    if l_str_number % 2 == 0: #hago la condición del despliegue del número que si es par:\n",
    "        n = (l_str_number / 2) - 1 #me devuelva el cálculo que tiene que si es número par, me divida entre dos el despliegue del número string en dos y quitándole 1 (porque tenemos que quitar dos dígitos)\n",
    "    else:\n",
    "        n = l_str_number / 2 #sino, me tiene que devolver el resto que es un número impar dividido entre dos\n",
    "    for i in range(0,int(n)): #ahora cojo y defino que por el rango entre 0 y n (esta variable es lo que hemos definido anteriormente para diferenciar entre un número con longitud par o impar)convertida en int me tiene que calcular lo siguiente:\n",
    "        sum_der = sum_der + int(str_number[len(str_number)-1-i]) #esta definición me dice que la suma de los dígitos de la derecha (que empieza con 0) más la posición del dígito (en la que le quitamos una posición y le quitamos también la posición i- convertido en int) es la suma del lado derecho del número\n",
    "        sum_izq = sum_izq + int(str_number[i]) #en este cálculo me define que la suma de los dígitos de la izquierda (que empieza por tener un valor 0) más la posición i (del rango antes definido- convertido en int para que se pueda sumar) es igual a la suma de los dígitos de la parte izquierda\n",
    "    if (sum_der == sum_izq): #ahora cogemos la condición que si las dos sumas, tanto por la parte derecha como por la parte izquierda son iguales:\n",
    "        return(\"Balanced\") #nos va a devolver un Balanced\n",
    "    else:\n",
    "        return(\"Not Balanced\") #y si las sumas de las dos partes no son iguales, nos devolverá un Not Balanced"
   ]
  }
 ],
 "metadata": {
  "kernelspec": {
   "display_name": "Python [conda env:jp_env] *",
   "language": "python",
   "name": "conda-env-jp_env-py"
  },
  "language_info": {
   "codemirror_mode": {
    "name": "ipython",
    "version": 3
   },
   "file_extension": ".py",
   "mimetype": "text/x-python",
   "name": "python",
   "nbconvert_exporter": "python",
   "pygments_lexer": "ipython3",
   "version": "3.9.12"
  }
 },
 "nbformat": 4,
 "nbformat_minor": 5
}
